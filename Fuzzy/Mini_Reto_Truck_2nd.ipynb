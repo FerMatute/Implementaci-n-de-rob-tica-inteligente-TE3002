{
  "cells": [
    {
      "cell_type": "markdown",
      "metadata": {
        "id": "8201q2s2CpNw"
      },
      "source": [
        "### Integrantes:\n",
        "- José Antonio Miranda Baños\n",
        "\n",
        "- Fernando Josué Matute Soto\n",
        "\n",
        "- Paolo Alfonso Reyes Ramírez\n",
        "\n",
        "- Ricardo Navarro Gómez"
      ]
    },
    {
      "cell_type": "code",
      "execution_count": 19,
      "metadata": {
        "id": "XChpP12bgr5H"
      },
      "outputs": [],
      "source": [
        "# Import necesary libraries\n",
        "import numpy as np\n",
        "import skfuzzy as fuzz\n",
        "from skfuzzy import control as ctrl\n",
        "import fuzzylite as fl\n",
        "\n",
        "# Uncomment and run the following command if FuzzyLite is not installed yet\n",
        "import warnings\n",
        "warnings.filterwarnings('ignore')"
      ]
    },
    {
      "cell_type": "markdown",
      "metadata": {},
      "source": [
        "## Truck Problem using Mandani"
      ]
    },
    {
      "cell_type": "code",
      "execution_count": 20,
      "metadata": {},
      "outputs": [],
      "source": [
        "#Declaring and Initializing the Fuzzy Engine\n",
        "\n",
        "engine = fl.Engine(name='Truck',\n",
        "    description='Truck Parking Problem',)\n",
        "\n",
        "#Defining the Input Variables (Fuzzification)\n",
        "engine.input_variables = [\n",
        "    fl.InputVariable(\n",
        "    name='Distance', description='Distance from parking', enabled=True,\n",
        "    minimum=0, maximum=20.01, lock_range=False,\n",
        "    terms=[fl.Gaussian('lefter', 0, 2),\n",
        "           fl.Gaussian('left',5, 2),\n",
        "           fl.Gaussian('center',10, 2),\n",
        "           fl.Gaussian('right',15,2),\n",
        "           fl.Gaussian('righter',20,2)]\n",
        "    ),\n",
        "    fl.InputVariable(\n",
        "    name='Angle', description=\"Angle from the parking spot\", enabled=True,\n",
        "    minimum=-90, maximum=270.01, lock_range=False,\n",
        "    terms=[fl.Gaussian('l_horizontal',180, 20),\n",
        "           fl.Gaussian('l_diagonal',135, 20),\n",
        "           fl.Gaussian('perpendicular',90, 20),\n",
        "           fl.Gaussian('r_diagonal',45, 20),\n",
        "           fl.Gaussian('r_horizontal',0, 20)])\n",
        "]\n",
        "\n",
        "#Defining the Output Variables (Defuzzification)\n",
        "engine.output_variables = [\n",
        "    fl.OutputVariable(\n",
        "    name='Steering_angle', description='Steering angle needed for parking', enabled=True,\n",
        "    minimum=-40, maximum=40.01, lock_range=False,\n",
        "    aggregation=fl.Maximum(), defuzzifier=fl.Centroid(200), default_value = fl.nan,\n",
        "    lock_previous=False,\n",
        "    terms=[fl.Gaussian('LEFT', 35, 5),\n",
        "            fl.Gaussian('left_2', 26.1, 5),\n",
        "            fl.Gaussian('left_3', 17.2, 5),\n",
        "            fl.Gaussian('left_4', 8.3, 5),\n",
        "            fl.Gaussian('center', 0, 5),\n",
        "            fl.Gaussian('right_2', -12.3, 5),\n",
        "            fl.Gaussian('right_3', -21.2, 5),\n",
        "            fl.Gaussian('right_4', -28.1, 5),\n",
        "            fl.Gaussian('RIGHT', -35, 5)])]"
      ]
    },
    {
      "cell_type": "markdown",
      "metadata": {},
      "source": [
        "Defining the Output Variables (Defuzzification) for Mamdani inference system.\n",
        "\n",
        "### Rules\n",
        "1. If lefter AND r_horizontal, THEN RIGht\n",
        "2. If lefter AND r_diagonal, THEN center\n",
        "3. If lefter AND perpendicular, THEN leFT\n",
        "\n",
        "4. If left AND r_horizontal, THEN RIGHt\n",
        "5. If left AND r_diagonal, THEN RIght\n",
        "6. If left AND perpendicular, leFT\n",
        "\n",
        "7. If center AND r_horizontal, THEN RIGHT\n",
        "8. If center AND r_diagonal, THEN RIGHt\n",
        "9. If center AND perpendicular, THEN center\n"
      ]
    },
    {
      "cell_type": "code",
      "execution_count": 21,
      "metadata": {},
      "outputs": [],
      "source": [
        "#Creation of Fuzzy Rule Base (Mamdani)\n",
        "# Antecedent terms serving as inputs to this rule.\n",
        "engine.rule_blocks = [\n",
        "      fl.RuleBlock(\n",
        "      name='Truck Parking', description='Truck FIS for Steering_angle to Parking Spot',\n",
        "      enabled=True,\n",
        "      conjunction=fl.Minimum(), # AND\n",
        "      disjunction=fl.Maximum(), # OR\n",
        "      implication=fl.Minimum(),\n",
        "      activation=fl.General(), # Activation method that activates every rule of a rule block in insertion order\n",
        "      rules=[\n",
        "        fl.Rule.create(\"if Distance is lefter and Angle is r_horizontal then Steering_angle is right_3\", engine),\n",
        "        fl.Rule.create(\"if Distance is lefter and Angle is r_diagonal then Steering_angle is center\", engine),\n",
        "        fl.Rule.create(\"if Distance is lefter and Angle is perpendicular then Steering_angle is left_4\", engine),\n",
        "        fl.Rule.create(\"if Distance is left and Angle is r_horizontal then Steering_angle is right_4\", engine),\n",
        "        fl.Rule.create(\"if Distance is left and Angle is r_diagonal then Steering_angle is right_2\", engine),\n",
        "        fl.Rule.create(\"if Distance is left and Angle is perpendicular then Steering_angle is left_4\", engine),\n",
        "        fl.Rule.create(\"if Distance is center and Angle is r_horizontal then Steering_angle is RIGHT\", engine),\n",
        "        fl.Rule.create(\"if Distance is center and Angle is r_diagonal then Steering_angle is right_4\", engine),\n",
        "        fl.Rule.create(\"if Distance is center and Angle is perpendicular then Steering_angle is center\", engine)]\n",
        "      )\n",
        "]"
      ]
    },
    {
      "cell_type": "markdown",
      "metadata": {},
      "source": [
        "## TSK\n",
        "The weight-based defuzzifier is computed using the results of the membership functions as values and the activation degrees as weights"
      ]
    },
    {
      "cell_type": "code",
      "execution_count": null,
      "metadata": {},
      "outputs": [],
      "source": []
    },
    {
      "cell_type": "markdown",
      "metadata": {},
      "source": [
        "## Tsukamoto\n",
        "\n",
        "The weight-based defuzzifier uses the activation degrees as weights, and for the values uses the arguments of the membership functions that produce the respective activation degrees."
      ]
    },
    {
      "cell_type": "code",
      "execution_count": null,
      "metadata": {},
      "outputs": [],
      "source": [
        "# Let's add a Tsukamoto output block to the FIS\n",
        "parking = fl.OutputVariable()\n",
        "parking.name = \"\"\n",
        "parking.description = \"Steering Angle for Parking\"\n",
        "parking.enabled = True\n",
        "parking.range = (0.000, 30.000)\n",
        "parking.lock_range = False # lock the value to the range of the variable\n",
        "parking.aggregation = None\n",
        "parking.defuzzifier = fl.WeightedAverage(\"Tsukamoto\")\n",
        "parking.default_value = fl.nan\n",
        "parking.lock_previous = False # lock the previous value of the output variable\n",
        "parking.terms.append(fl.Concave(\"cheap\", 5.0, 4.0)) # inflection, end\n",
        "parking.terms.append(fl.SShape(\"average\", 12.0, 20.0)) # start, end\n",
        "parking.terms.append(fl.Sigmoid(\"generous\", 20.0, 30)) # inflection, slope\n",
        "engine.output_variables.append(parking)"
      ]
    },
    {
      "cell_type": "code",
      "execution_count": null,
      "metadata": {},
      "outputs": [],
      "source": [
        "# Reglas Tsukamoto\n",
        "tsukamoto = fl.RuleBlock()\n",
        "tsukamoto.name = \"Tsukamoto\"\n",
        "tsukamoto.description = \"Tsukamoto inference\"\n",
        "tsukamoto.enabled = True\n",
        "tsukamoto.conjunction = fl.Minimum()\n",
        "tsukamoto.disjunction = fl.Maximum()\n",
        "tsukamoto.implication = fl.Minimum()\n",
        "tsukamoto.activation = fl.General()\n",
        "tsukamoto.rules=[\n",
        "        fl.Rule.create(\"if Distance is lefter and Angle is r_horizontal then Steering_angle is right_3\", engine),\n",
        "        fl.Rule.create(\"if Distance is lefter and Angle is r_diagonal then Steering_angle is center\", engine),\n",
        "        fl.Rule.create(\"if Distance is lefter and Angle is perpendicular then Steering_angle is left_4\", engine),\n",
        "        fl.Rule.create(\"if Distance is left and Angle is r_horizontal then Steering_angle is right_4\", engine),\n",
        "        fl.Rule.create(\"if Distance is left and Angle is r_diagonal then Steering_angle is right_2\", engine),\n",
        "        fl.Rule.create(\"if Distance is left and Angle is perpendicular then Steering_angle is left_4\", engine),\n",
        "        fl.Rule.create(\"if Distance is center and Angle is r_horizontal then Steering_angle is RIGHT\", engine),\n",
        "        fl.Rule.create(\"if Distance is center and Angle is r_diagonal then Steering_angle is right_4\", engine),\n",
        "        fl.Rule.create(\"if Distance is center and Angle is perpendicular then Steering_angle is center\", engine)]\n",
        "\n",
        "engine.rule_blocks.append(tsukamoto)"
      ]
    },
    {
      "cell_type": "code",
      "execution_count": 178,
      "metadata": {
        "colab": {
          "base_uri": "https://localhost:8080/"
        },
        "id": "RV1RJpJ2uG-z",
        "outputId": "f9c0614f-1b9e-41d6-c200-1c84b8b6afad"
      },
      "outputs": [
        {
          "data": {
            "text/plain": [
              "array([[  0.  ,   1.  ,   0.  , -19.  ],\n",
              "       [  1.  ,   1.95,   9.37, -17.95],\n",
              "       [  2.  ,   2.88,  18.23, -16.9 ],\n",
              "       [  3.  ,   3.79,  26.59, -15.85],\n",
              "       [  4.  ,   4.65,  34.44, -14.8 ],\n",
              "       [  5.  ,   5.45,  41.78, -13.75],\n",
              "       [  6.  ,   6.18,  48.6 , -12.7 ],\n",
              "       [  7.  ,   7.48,  54.91, -11.65],\n",
              "       [  8.  ,   7.99,  60.71, -10.6 ],\n",
              "       [  9.  ,   8.72,  65.99,  -9.55],\n",
              "       [ 10.  ,   9.01,  70.75,  -8.5 ],\n",
              "       [ 11.  ,   9.28,  74.98,  -7.45],\n",
              "       [ 12.  ,   9.46,  78.7 ,  -6.4 ],\n",
              "       [ 13.  ,   9.59,  81.9 ,  -5.34],\n",
              "       [ 14.  ,   9.72,  84.57,  -4.3 ],\n",
              "       [ 15.  ,   9.81,  86.72,  -3.25],\n",
              "       [ 16.  ,   9.88,  88.34,  -2.2 ],\n",
              "       [ 17.  ,   9.91,  89.44,   0.  ]])"
            ]
          },
          "execution_count": 178,
          "metadata": {},
          "output_type": "execute_result"
        }
      ],
      "source": [
        "data = np.array([[  0.  ,   1.  ,   0.  , -19.  ],\n",
        "       [  1.  ,   1.95,   9.37, -17.95],\n",
        "       [  2.  ,   2.88,  18.23, -16.9 ],\n",
        "       [  3.  ,   3.79,  26.59, -15.85],\n",
        "       [  4.  ,   4.65,  34.44, -14.8 ],\n",
        "       [  5.  ,   5.45,  41.78, -13.75],\n",
        "       [  6.  ,   6.18,  48.6 , -12.7 ],\n",
        "       [  7.  ,   7.48,  54.91, -11.65],\n",
        "       [  8.  ,   7.99,  60.71, -10.6 ],\n",
        "       [  9.  ,   8.72,  65.99,  -9.55],\n",
        "       [ 10.  ,   9.01,  70.75,  -8.5 ],\n",
        "       [ 11.  ,   9.28,  74.98,  -7.45],\n",
        "       [ 12.  ,   9.46,  78.7 ,  -6.4 ],\n",
        "       [ 13.  ,   9.59,  81.9 ,  -5.34],\n",
        "       [ 14.  ,   9.72,  84.57,  -4.3 ],\n",
        "       [ 15.  ,   9.81,  86.72,  -3.25],\n",
        "       [ 16.  ,   9.88,  88.34,  -2.2 ],\n",
        "       [ 17.  ,   9.91,  89.44,   0.  ]])\n",
        "data"
      ]
    },
    {
      "cell_type": "code",
      "execution_count": 179,
      "metadata": {
        "colab": {
          "base_uri": "https://localhost:8080/"
        },
        "id": "mJHiE8rBvLvI",
        "outputId": "5196e4ba-10eb-4df7-e027-85d407d746bb"
      },
      "outputs": [
        {
          "name": "stdout",
          "output_type": "stream",
          "text": [
            "[-19.0, -17.95, -16.9, -15.85, -14.8, -13.75, -12.7, -11.65, -10.6, -9.55, -8.5, -7.45, -6.4, -5.34, -4.3, -3.25, -2.2, 0.0]\n"
          ]
        }
      ],
      "source": [
        "real_value_list = [dato[-1] for dato in data]\n",
        "print(real_value_list)\n",
        "predicted_value_list=[]"
      ]
    },
    {
      "cell_type": "code",
      "execution_count": 180,
      "metadata": {
        "colab": {
          "base_uri": "https://localhost:8080/"
        },
        "id": "bRaMv5ESuVtw",
        "outputId": "7db17833-10a6-4438-b18a-5a7a502e6eb7"
      },
      "outputs": [
        {
          "name": "stdout",
          "output_type": "stream",
          "text": [
            "Valor original -19.0, Predict: -19.30151712269368 \n",
            "Valor original -17.95, Predict: -17.121630855473132 \n",
            "Valor original -16.9, Predict: -15.639000608841577 \n",
            "Valor original -15.85, Predict: -15.894118560386962 \n",
            "Valor original -14.8, Predict: -14.392872424716181 \n",
            "Valor original -13.75, Predict: -11.483022072077402 \n",
            "Valor original -12.7, Predict: -9.65410176768104 \n",
            "Valor original -11.65, Predict: -10.121545620356832 \n",
            "Valor original -10.6, Predict: -8.42997314896901 \n",
            "Valor original -9.55, Predict: -9.87919288467768 \n",
            "Valor original -8.5, Predict: -8.66291428635454 \n",
            "Valor original -7.45, Predict: -7.390830734733301 \n",
            "Valor original -6.4, Predict: -6.0748239102437545 \n",
            "Valor original -5.34, Predict: -4.915701803185293 \n",
            "Valor original -4.3, Predict: -4.0273978305695755 \n",
            "Valor original -3.25, Predict: -3.325989062171009 \n",
            "Valor original -2.2, Predict: -2.8292737044465635 \n",
            "Valor original 0.0, Predict: -2.483240903382649 \n"
          ]
        }
      ],
      "source": [
        "for dato in data:\n",
        "  theta_fis.inputs({'distance': dato[1], 'angle': dato[2]})\n",
        "  theta_fis.compute()\n",
        "  predicted_value_list.append(theta_fis.output['steering_angle'])\n",
        "\n",
        "for i, predicted_value in enumerate(predicted_value_list):\n",
        " print(f'Valor original {real_value_list[i]}, Predict: {predicted_value} ')"
      ]
    },
    {
      "cell_type": "code",
      "execution_count": 181,
      "metadata": {
        "id": "-SvXpeGJuPxV"
      },
      "outputs": [],
      "source": [
        "def get_RMSE(real_values_list, predicted_value_list):\n",
        "        return(np.square(np.subtract(real_values_list, predicted_value_list)).mean())"
      ]
    },
    {
      "cell_type": "code",
      "execution_count": 182,
      "metadata": {
        "colab": {
          "base_uri": "https://localhost:8080/"
        },
        "id": "4V178dGqwWY7",
        "outputId": "e1e442d1-b28a-4a9f-c243-2d0a59096153"
      },
      "outputs": [
        {
          "name": "stdout",
          "output_type": "stream",
          "text": [
            "1.7257520340177384\n"
          ]
        }
      ],
      "source": [
        "error = get_RMSE(real_value_list, predicted_value_list)\n",
        "print(error)"
      ]
    }
  ],
  "metadata": {
    "colab": {
      "provenance": []
    },
    "kernelspec": {
      "display_name": "Python 3",
      "name": "python3"
    },
    "language_info": {
      "codemirror_mode": {
        "name": "ipython",
        "version": 3
      },
      "file_extension": ".py",
      "mimetype": "text/x-python",
      "name": "python",
      "nbconvert_exporter": "python",
      "pygments_lexer": "ipython3",
      "version": "3.11.9"
    }
  },
  "nbformat": 4,
  "nbformat_minor": 0
}
